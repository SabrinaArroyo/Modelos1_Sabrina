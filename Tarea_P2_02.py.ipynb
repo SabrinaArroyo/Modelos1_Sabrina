{
 "cells": [
  {
   "cell_type": "code",
   "execution_count": 3,
   "id": "ffe11004",
   "metadata": {},
   "outputs": [],
   "source": [
    "# Diferencia entre desviación estándar y varianza\n",
    "\n",
    "# Desviación estándar:  es la raíz cuadrada de la varianza, lo que significa \n",
    "# que está en las mismas unidades que los datos originales.\n",
    "\n",
    "# Varianza: La varianza mide la media de las diferencias al cuadrado \n",
    "# entre cada dato y la media del conjunto de datos. \n",
    "# Es una medida de qué tan dispersos o alejados están los datos de su media."
   ]
  },
  {
   "cell_type": "code",
   "execution_count": null,
   "id": "f87676fc",
   "metadata": {},
   "outputs": [],
   "source": []
  }
 ],
 "metadata": {
  "kernelspec": {
   "display_name": "Python 3 (ipykernel)",
   "language": "python",
   "name": "python3"
  },
  "language_info": {
   "codemirror_mode": {
    "name": "ipython",
    "version": 3
   },
   "file_extension": ".py",
   "mimetype": "text/x-python",
   "name": "python",
   "nbconvert_exporter": "python",
   "pygments_lexer": "ipython3",
   "version": "3.11.3"
  }
 },
 "nbformat": 4,
 "nbformat_minor": 5
}
