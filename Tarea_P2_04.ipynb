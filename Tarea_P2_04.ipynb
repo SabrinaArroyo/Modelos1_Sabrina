{
 "cells": [
  {
   "cell_type": "code",
   "execution_count": null,
   "id": "4ca35ab2",
   "metadata": {},
   "outputs": [],
   "source": [
    "# Ejercicio 1. Mediante teclado especificar los siguiente:\n",
    "# - Numero de columnas que tendrá el dataframe\n",
    "# - Una vez que se especifique, preguntar por los datos que tendra esa Serie\n",
    "# - Preguntar por los nombres de las columnas que tendrá el dataframe\n",
    "# - Preguntar por los nombres de las filas que tendrá el dataframe\n",
    "# - Una vez introducidos los datos, crear el dataframe que contenga esa información\n",
    "# - Mostrar el dataframe\n",
    "\n",
    "\n",
    "import pandas as pd\n",
    "num_col = int(input(\"Introduce el número de columnas que tendrá el dataframe: \"))\n",
    "data = []\n",
    "for i in range(num_col):\n",
    "    col_data = input(f\"Introduce los datos de la columna {i + 1}, separados por comas: \").split(\",\")\n",
    "    data.append(col_data)\n",
    "\n",
    "col_names = input(\"Introduce los nombres de las columnas, separados por comas: \").split(\",\")\n",
    "row_names = input(\"Introduce los nombres de las filas, separados por comas: \").split(\",\")\n",
    "df = pd.DataFrame(data=data, index=row_names).T  # .T para transponer los datos\n",
    "print(\"\\nDataFrame resultante:\")\n",
    "print(df)\n"
   ]
  },
  {
   "cell_type": "code",
   "execution_count": null,
   "id": "945f499e",
   "metadata": {},
   "outputs": [],
   "source": []
  }
 ],
 "metadata": {
  "kernelspec": {
   "display_name": "Python 3 (ipykernel)",
   "language": "python",
   "name": "python3"
  },
  "language_info": {
   "codemirror_mode": {
    "name": "ipython",
    "version": 3
   },
   "file_extension": ".py",
   "mimetype": "text/x-python",
   "name": "python",
   "nbconvert_exporter": "python",
   "pygments_lexer": "ipython3",
   "version": "3.11.3"
  }
 },
 "nbformat": 4,
 "nbformat_minor": 5
}
